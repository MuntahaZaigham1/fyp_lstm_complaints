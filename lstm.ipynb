{
  "nbformat": 4,
  "nbformat_minor": 0,
  "metadata": {
    "colab": {
      "name": "Untitled0.ipynb",
      "provenance": [],
      "collapsed_sections": [],
      "include_colab_link": true
    },
    "kernelspec": {
      "name": "python3",
      "display_name": "Python 3"
    }
  },
  "cells": [
    {
      "cell_type": "markdown",
      "metadata": {
        "id": "view-in-github",
        "colab_type": "text"
      },
      "source": [
        "<a href=\"https://colab.research.google.com/github/MuntahaZaigham1/fyp_lstm_complaints/blob/master/lstm.ipynb\" target=\"_parent\"><img src=\"https://colab.research.google.com/assets/colab-badge.svg\" alt=\"Open In Colab\"/></a>"
      ]
    },
    {
      "cell_type": "code",
      "metadata": {
        "id": "GkmJzYyA7J1I",
        "colab_type": "code",
        "outputId": "81b0642a-34c3-4e9a-95f5-4b8f7b4a4433",
        "colab": {
          "base_uri": "https://localhost:8080/",
          "height": 1000
        }
      },
      "source": [
        "#from sre_parse import Tokenizer\n",
        " from keras.preprocessing.text import Tokenizer\n",
        " from keras.models import Sequential\n",
        " from keras.layers import Embedding\n",
        " from keras.layers import Dense\n",
        " import keras.layers\n",
        " from keras.callbacks import  EarlyStopping\n",
        "from keras.layers.recurrent import LSTM\n",
        " from sklearn.model_selection import train_test_split\n",
        "import re\n",
        "import nltk.corpus\n",
        "#nltk.download(\"stopwords\")\n",
        "from nltk.corpus import stopwords\n",
        "import pandas as pd1\n",
        "import keras.preprocessing.sequence\n",
        "df = pd1.read_csv('Consumer_Complaints.csv')\n",
        "df = df.astype(str)\n",
        "df.info()\n",
        "df.Product.value_counts()\n",
        "\n",
        "df.loc[df[\n",
        "           'Product'] == 'Credit reporting', 'Product'] = 'Credit reporting, credit repair services, or other personal consumer reports'\n",
        "df.loc[df['Product'] == 'Credit card', 'Product'] = 'Credit card or prepaid card'\n",
        "df.loc[df['Product'] == 'Payday loan', 'Product'] = 'Payday loan, title loan, or personal loan'\n",
        "df.loc[df['Product'] == 'Virtual currency', 'Product'] = 'Money transfer, virtual currency, or money service'\n",
        "df = df[df.Product != 'Other financial service']\n",
        "\n",
        "df['Product'].value_counts().sort_values(ascending=False)\n",
        "\n",
        "\n",
        "# .iplot(kind='bar', yTitle='Number of Complaints', title='Number complaints in each product')\n",
        "# install cufflinks\n",
        "\n",
        "def print_plot(index):\n",
        "    example = df[df.index == index][['Consumer complaint narrative', 'Product']].values[0]\n",
        "    if len(example) > 0:\n",
        "        print(example[0])\n",
        "        print('Product:', example[1])\n",
        "\n",
        "\n",
        "print_plot(100)\n",
        "\n",
        "df = df.reset_index(drop=True)\n",
        "REPLACE_BY_SPACE_RE = re.compile('[/(){}\\[\\]\\|@,;]')\n",
        "BAD_SYMBOLS_RE = re.compile('[^0-9a-z #+_]')\n",
        "STOPWORDS = set(stopwords.words('english'))\n",
        "\n",
        "\n",
        "def clean_text(text):\n",
        "    \"\"\"\n",
        "        text: a string\n",
        "\n",
        "        return: modified initial string\n",
        "    \"\"\"\n",
        "    text = text.lower()  # lowercase text\n",
        "    text = REPLACE_BY_SPACE_RE.sub(' ',\n",
        "                                   text)  # replace REPLACE_BY_SPACE_RE symbols by space in text. substitute the matched string in REPLACE_BY_SPACE_RE with space.\n",
        "    text = BAD_SYMBOLS_RE.sub('',\n",
        "                              text)  # remove symbols which are in BAD_SYMBOLS_RE from text. substitute the matched string in BAD_SYMBOLS_RE with nothing.\n",
        "    text = text.replace('x', '')\n",
        "    #    text = re.sub(r'\\W+', '', text)\n",
        "    text = ' '.join(word for word in text.split() if word not in STOPWORDS)  # remove stopwors from text\n",
        "    return text\n",
        "\n",
        "\n",
        "df['Consumer complaint narrative'] = df['Consumer complaint narrative'].apply(clean_text)\n",
        "df['Consumer complaint narrative'] = df['Consumer complaint narrative'].str.replace('\\d+', '')\n",
        "print_plot(100)\n",
        "\n",
        "# The maximum number of words to be used. (most frequent)\n",
        "MAX_NB_WORDS = 50000\n",
        "# Max number of words in each complaint.\n",
        "MAX_SEQUENCE_LENGTH = 250\n",
        "# This is fixed.\n",
        "EMBEDDING_DIM = 100\n",
        "tokenizer = Tokenizer(num_words=MAX_NB_WORDS, filters='!\"#$%&()*+,-./:;<=>?@[\\]^_`{|}~', lower=True)\n",
        "tokenizer.fit_on_texts(df['Consumer complaint narrative'].values)\n",
        "word_index = tokenizer.word_index\n",
        "print('Found %s unique tokens.' % len(word_index))\n",
        "X = tokenizer.texts_to_sequences(df['Consumer complaint narrative'].values)\n",
        "X = keras.preprocessing.sequence.pad_sequences(X, maxlen=MAX_SEQUENCE_LENGTH)\n",
        "print('Shape of data tensor:', X.shape)\n",
        "Y = pd1.get_dummies(df['Product']).values\n",
        "print('Shape of label tensor:', Y.shape)\n",
        "X_train, X_test, Y_train, Y_test = train_test_split(X,Y, test_size = 0.10, random_state = 42)\n",
        "print(X_train.shape,Y_train.shape)\n",
        "print(X_test.shape,Y_test.shape)\n",
        "model = Sequential()\n",
        "model.add(Embedding(MAX_NB_WORDS, EMBEDDING_DIM, input_length=X.shape[1]))\n",
        "model.add(SpatialDropout1D(0.2))\n",
        "model.add(LSTM(100, dropout=0.2, recurrent_dropout=0.2))\n",
        "model.add(Dense(13, activation='softmax'))\n",
        "model.compile(loss='categorical_crossentropy', optimizer='adam', metrics=['accuracy'])\n",
        "\n",
        "\n",
        "epochs = 5\n",
        "batch_size = 64\n",
        "\n",
        "history = model.fit(X_train, Y_train, epochs=epochs, batch_size=batch_size,validation_split=0.1,callbacks=[EarlyStopping(monitor='val_loss', patience=3, min_delta=0.0001)])\n",
        "\n"
      ],
      "execution_count": 0,
      "outputs": [
        {
          "output_type": "stream",
          "text": [
            "<class 'pandas.core.frame.DataFrame'>\n",
            "RangeIndex: 507868 entries, 0 to 507867\n",
            "Data columns (total 18 columns):\n",
            "Date received                   507868 non-null object\n",
            "Product                         507868 non-null object\n",
            "Sub-product                     507868 non-null object\n",
            "Issue                           507868 non-null object\n",
            "Sub-issue                       507868 non-null object\n",
            "Consumer complaint narrative    507868 non-null object\n",
            "Company public response         507868 non-null object\n",
            "Company                         507868 non-null object\n",
            "State                           507868 non-null object\n",
            "ZIP code                        507868 non-null object\n",
            "Tags                            507868 non-null object\n",
            "Consumer consent provided?      507868 non-null object\n",
            "Submitted via                   507868 non-null object\n",
            "Date sent to company            507868 non-null object\n",
            "Company response to consumer    507868 non-null object\n",
            "Timely response?                507868 non-null object\n",
            "Consumer disputed?              507868 non-null object\n",
            "Complaint ID                    507868 non-null object\n",
            "dtypes: object(18)\n",
            "memory usage: 69.7+ MB\n",
            "National Recovery, the individuals allegedly persuing a debt of a XXXX XXXX bill, reported said debt to my credit report with no prior written notice of such claim, no account number associated with said amount due and no chance to pay debt, before they reported alleged debt to my credit. I deserve to have knowledge of said debt and a chance to reconcile such debt, before it impacts my credit score thereof. For such wrongful demeanor and unrelentness false reporting, I request the inquiry be removed. So, I have a chance to dispute such claim ( s ), before the claim has an impact on my CREDIT score, which National Recovery did not give me an option nor a written bill or any validation of said bill even existing prior to the reporting of alleged amount owed to the credit bureaus. \n",
            "\n",
            "Sincerely, XXXX XXXX ( Business Owner/Entrepreneur )\n",
            "Product: Debt collection\n",
            "national recovery individuals allegedly persuing debt bill reported said debt credit report prior written notice claim account number associated said amount due chance pay debt reported alleged debt credit deserve knowledge said debt chance reconcile debt impacts credit score thereof wrongful demeanor unrelentness false reporting request inquiry removed chance dispute claim claim impact credit score national recovery give option written bill validation said bill even eisting prior reporting alleged amount owed credit bureaus sincerely business owner entrepreneur\n",
            "Product: Debt collection\n",
            "Found 88403 unique tokens.\n",
            "Shape of data tensor: (507445, 250)\n",
            "Shape of label tensor: (507445, 13)\n",
            "(456700, 250) (456700, 13)\n",
            "(50745, 250) (50745, 13)\n",
            "WARNING:tensorflow:From /usr/local/lib/python3.6/dist-packages/tensorflow_core/python/ops/math_grad.py:1424: where (from tensorflow.python.ops.array_ops) is deprecated and will be removed in a future version.\n",
            "Instructions for updating:\n",
            "Use tf.where in 2.0, which has the same broadcast rule as np.where\n",
            "WARNING:tensorflow:From /usr/local/lib/python3.6/dist-packages/keras/backend/tensorflow_backend.py:1033: The name tf.assign_add is deprecated. Please use tf.compat.v1.assign_add instead.\n",
            "\n",
            "WARNING:tensorflow:From /usr/local/lib/python3.6/dist-packages/keras/backend/tensorflow_backend.py:1020: The name tf.assign is deprecated. Please use tf.compat.v1.assign instead.\n",
            "\n",
            "WARNING:tensorflow:From /usr/local/lib/python3.6/dist-packages/keras/backend/tensorflow_backend.py:3005: The name tf.Session is deprecated. Please use tf.compat.v1.Session instead.\n",
            "\n",
            "Train on 411030 samples, validate on 45670 samples\n",
            "Epoch 1/5\n",
            "WARNING:tensorflow:From /usr/local/lib/python3.6/dist-packages/keras/backend/tensorflow_backend.py:190: The name tf.get_default_session is deprecated. Please use tf.compat.v1.get_default_session instead.\n",
            "\n",
            "WARNING:tensorflow:From /usr/local/lib/python3.6/dist-packages/keras/backend/tensorflow_backend.py:197: The name tf.ConfigProto is deprecated. Please use tf.compat.v1.ConfigProto instead.\n",
            "\n",
            "WARNING:tensorflow:From /usr/local/lib/python3.6/dist-packages/keras/backend/tensorflow_backend.py:207: The name tf.global_variables is deprecated. Please use tf.compat.v1.global_variables instead.\n",
            "\n",
            "WARNING:tensorflow:From /usr/local/lib/python3.6/dist-packages/keras/backend/tensorflow_backend.py:216: The name tf.is_variable_initialized is deprecated. Please use tf.compat.v1.is_variable_initialized instead.\n",
            "\n",
            "WARNING:tensorflow:From /usr/local/lib/python3.6/dist-packages/keras/backend/tensorflow_backend.py:223: The name tf.variables_initializer is deprecated. Please use tf.compat.v1.variables_initializer instead.\n",
            "\n",
            "411030/411030 [==============================] - 3512s 9ms/step - loss: 1.6350 - acc: 0.4029 - val_loss: 1.5338 - val_acc: 0.4361\n",
            "Epoch 2/5\n",
            "411030/411030 [==============================] - 3460s 8ms/step - loss: 1.5151 - acc: 0.4358 - val_loss: 1.4945 - val_acc: 0.4444\n",
            "Epoch 3/5\n",
            "411030/411030 [==============================] - 3393s 8ms/step - loss: 1.4852 - acc: 0.4440 - val_loss: 1.4841 - val_acc: 0.4468\n",
            "Epoch 4/5\n",
            "411030/411030 [==============================] - 3392s 8ms/step - loss: 1.4664 - acc: 0.4505 - val_loss: 1.4821 - val_acc: 0.4480\n",
            "Epoch 5/5\n",
            "411030/411030 [==============================] - 3365s 8ms/step - loss: 1.4502 - acc: 0.4571 - val_loss: 1.4829 - val_acc: 0.4490\n"
          ],
          "name": "stdout"
        }
      ]
    },
    {
      "cell_type": "code",
      "metadata": {
        "id": "S7FrtaOprRQ4",
        "colab_type": "code",
        "outputId": "5c9cfc80-b75f-4877-f14f-4a731e50e4ae",
        "colab": {
          "base_uri": "https://localhost:8080/",
          "height": 84
        }
      },
      "source": [
        "accr = model.evaluate(X_test,Y_test)\n",
        "print('Test set\\n  Loss: {:0.3f}\\n  Accuracy: {:0.3f}'.format(accr[0],accr[1]))"
      ],
      "execution_count": 0,
      "outputs": [
        {
          "output_type": "stream",
          "text": [
            "50745/50745 [==============================] - 88s 2ms/step\n",
            "Test set\n",
            "  Loss: 1.490\n",
            "  Accuracy: 0.444\n"
          ],
          "name": "stdout"
        }
      ]
    },
    {
      "cell_type": "code",
      "metadata": {
        "id": "-0hi6j1yq2nb",
        "colab_type": "code",
        "outputId": "07f71b27-5fa1-4f43-8c73-8ec81c65c7ef",
        "colab": {
          "base_uri": "https://localhost:8080/",
          "height": 281
        }
      },
      "source": [
        "import matplotlib.pyplot as plt\n",
        "plt.title('Loss')\n",
        "plt.plot(history.history['loss'], label='train')\n",
        "plt.plot(history.history['val_loss'], label='test')\n",
        "plt.legend()\n",
        "plt.show();"
      ],
      "execution_count": 0,
      "outputs": [
        {
          "output_type": "display_data",
          "data": {
            "image/png": "[encoded data removed]",
            "text/plain": [
              "<Figure size 432x288 with 1 Axes>"
            ]
          },
          "metadata": {
            "tags": []
          }
        }
      ]
    },
    {
      "cell_type": "code",
      "metadata": {
        "id": "Wi5pS5V6SZ-t",
        "colab_type": "code",
        "outputId": "e13dd451-a5a4-43ff-b275-c2d74625522d",
        "colab": {
          "base_uri": "https://localhost:8080/",
          "height": 281
        }
      },
      "source": [
        "plt.title('Accuracy')\n",
        "plt.plot(history.history['acc'], label='train')\n",
        "plt.plot(history.history['val_acc'], label='test')\n",
        "plt.legend()\n",
        "plt.show();"
      ],
      "execution_count": 0,
      "outputs": [
        {
          "output_type": "display_data",
          "data": {
            "image/png": "[encoded data removed]",
            "text/plain": [
              "<Figure size 432x288 with 1 Axes>"
            ]
          },
          "metadata": {
            "tags": []
          }
        }
      ]
    },
    {
      "cell_type": "code",
      "metadata": {
        "id": "b1Df43oJSj-9",
        "colab_type": "code",
        "outputId": "0e8d1bb5-0c4e-4552-c71f-63701c67794b",
        "colab": {
          "base_uri": "https://localhost:8080/",
          "height": 67
        }
      },
      "source": [
        "new_complaint = ['I wish to complain about Mortage that I purchased on XXXX.']\n",
        "seq = tokenizer.texts_to_sequences(new_complaint)\n",
        "padded = keras.preprocessing.sequence.pad_sequences(seq, maxlen=MAX_SEQUENCE_LENGTH)\n",
        "pred = model.predict(padded)\n",
        "labels = ['Credit reporting, credit repair services, or other personal consumer reports', 'Debt collection', 'Mortgage', 'Credit card or prepaid card', 'Student loan', 'Bank account or service', 'Checking or savings account', 'Consumer Loan', 'Payday loan, title loan, or personal loan', 'Vehicle loan or lease', 'Money transfer, virtual currency, or money service', 'Money transfers', 'Prepaid card']\n",
        "print(pred, labels[np.argmax(pred)])"
      ],
      "execution_count": 0,
      "outputs": [
        {
          "output_type": "stream",
          "text": [
            "[[4.4343378e-02 3.6546849e-02 7.3085399e-03 1.9195987e-01 4.2700365e-01\n",
            "  3.8298588e-02 3.8527113e-03 1.7423698e-04 2.3789781e-01 5.7660970e-03\n",
            "  4.3428858e-04 1.4869896e-03 4.9270019e-03]] Student loan\n"
          ],
          "name": "stdout"
        }
      ]
    }
  ]
}