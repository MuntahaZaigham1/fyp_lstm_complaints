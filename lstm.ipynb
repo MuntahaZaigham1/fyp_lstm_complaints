{
  "nbformat": 4,
  "nbformat_minor": 0,
  "metadata": {
    "colab": {
      "name": "Untitled0.ipynb",
      "provenance": [],
      "include_colab_link": true
    },
    "kernelspec": {
      "name": "python3",
      "display_name": "Python 3"
    }
  },
  "cells": [
    {
      "cell_type": "markdown",
      "metadata": {
        "id": "view-in-github",
        "colab_type": "text"
      },
      "source": [
        "<a href=\"https://colab.research.google.com/github/MuntahaZaigham1/fyp_lstm_complaints/blob/master/lstm.ipynb\" target=\"_parent\"><img src=\"https://colab.research.google.com/assets/colab-badge.svg\" alt=\"Open In Colab\"/></a>"
      ]
    },
    {
      "cell_type": "code",
      "metadata": {
        "id": "GkmJzYyA7J1I",
        "colab_type": "code",
        "colab": {
          "base_uri": "https://localhost:8080/",
          "height": 558
        },
        "outputId": "142d303a-8eb6-45ef-ee98-66223541d07d"
      },
      "source": [
        "#from sre_parse import Tokenizer\n",
        " from keras.preprocessing.text import Tokenizer\n",
        "import re\n",
        "import nltk.corpus\n",
        "#nltk.download(\"stopwords\")\n",
        "from nltk.corpus import stopwords\n",
        "import pandas as pd1\n",
        "import keras.preprocessing.sequence\n",
        "df = pd1.read_csv('Consumer_Complaints.csv')\n",
        "df = df.astype(str)\n",
        "df.info()\n",
        "df.Product.value_counts()\n",
        "\n",
        "df.loc[df[\n",
        "           'Product'] == 'Credit reporting', 'Product'] = 'Credit reporting, credit repair services, or other personal consumer reports'\n",
        "df.loc[df['Product'] == 'Credit card', 'Product'] = 'Credit card or prepaid card'\n",
        "df.loc[df['Product'] == 'Payday loan', 'Product'] = 'Payday loan, title loan, or personal loan'\n",
        "df.loc[df['Product'] == 'Virtual currency', 'Product'] = 'Money transfer, virtual currency, or money service'\n",
        "df = df[df.Product != 'Other financial service']\n",
        "\n",
        "df['Product'].value_counts().sort_values(ascending=False)\n",
        "\n",
        "\n",
        "# .iplot(kind='bar', yTitle='Number of Complaints', title='Number complaints in each product')\n",
        "# install cufflinks\n",
        "\n",
        "def print_plot(index):\n",
        "    example = df[df.index == index][['Consumer complaint narrative', 'Product']].values[0]\n",
        "    if len(example) > 0:\n",
        "        print(example[0])\n",
        "        print('Product:', example[1])\n",
        "\n",
        "\n",
        "print_plot(100)\n",
        "\n",
        "df = df.reset_index(drop=True)\n",
        "REPLACE_BY_SPACE_RE = re.compile('[/(){}\\[\\]\\|@,;]')\n",
        "BAD_SYMBOLS_RE = re.compile('[^0-9a-z #+_]')\n",
        "STOPWORDS = set(stopwords.words('english'))\n",
        "\n",
        "\n",
        "def clean_text(text):\n",
        "    \"\"\"\n",
        "        text: a string\n",
        "\n",
        "        return: modified initial string\n",
        "    \"\"\"\n",
        "    text = text.lower()  # lowercase text\n",
        "    text = REPLACE_BY_SPACE_RE.sub(' ',\n",
        "                                   text)  # replace REPLACE_BY_SPACE_RE symbols by space in text. substitute the matched string in REPLACE_BY_SPACE_RE with space.\n",
        "    text = BAD_SYMBOLS_RE.sub('',\n",
        "                              text)  # remove symbols which are in BAD_SYMBOLS_RE from text. substitute the matched string in BAD_SYMBOLS_RE with nothing.\n",
        "    text = text.replace('x', '')\n",
        "    #    text = re.sub(r'\\W+', '', text)\n",
        "    text = ' '.join(word for word in text.split() if word not in STOPWORDS)  # remove stopwors from text\n",
        "    return text\n",
        "\n",
        "\n",
        "df['Consumer complaint narrative'] = df['Consumer complaint narrative'].apply(clean_text)\n",
        "df['Consumer complaint narrative'] = df['Consumer complaint narrative'].str.replace('\\d+', '')\n",
        "print_plot(100)\n",
        "\n",
        "# The maximum number of words to be used. (most frequent)\n",
        "MAX_NB_WORDS = 50000\n",
        "# Max number of words in each complaint.\n",
        "MAX_SEQUENCE_LENGTH = 250\n",
        "# This is fixed.\n",
        "EMBEDDING_DIM = 100\n",
        "tokenizer = Tokenizer(num_words=MAX_NB_WORDS, filters='!\"#$%&()*+,-./:;<=>?@[\\]^_`{|}~', lower=True)\n",
        "tokenizer.fit_on_texts(df['Consumer complaint narrative'].values)\n",
        "word_index = tokenizer.word_index\n",
        "print('Found %s unique tokens.' % len(word_index))\n",
        "X = tokenizer.texts_to_sequences(df['Consumer complaint narrative'].values)\n",
        "X = keras.preprocessing.sequence.pad_sequences(X, maxlen=MAX_SEQUENCE_LENGTH)\n",
        "print('Shape of data tensor:', X.shape)\n",
        "\n",
        "\n"
      ],
      "execution_count": 12,
      "outputs": [
        {
          "output_type": "stream",
          "text": [
            "<class 'pandas.core.frame.DataFrame'>\n",
            "RangeIndex: 160997 entries, 0 to 160996\n",
            "Data columns (total 18 columns):\n",
            "Date received                   160997 non-null object\n",
            "Product                         160997 non-null object\n",
            "Sub-product                     160997 non-null object\n",
            "Issue                           160997 non-null object\n",
            "Sub-issue                       160997 non-null object\n",
            "Consumer complaint narrative    160997 non-null object\n",
            "Company public response         160997 non-null object\n",
            "Company                         160997 non-null object\n",
            "State                           160997 non-null object\n",
            "ZIP code                        160997 non-null object\n",
            "Tags                            160997 non-null object\n",
            "Consumer consent provided?      160997 non-null object\n",
            "Submitted via                   160997 non-null object\n",
            "Date sent to company            160997 non-null object\n",
            "Company response to consumer    160997 non-null object\n",
            "Timely response?                160997 non-null object\n",
            "Consumer disputed?              160997 non-null object\n",
            "Complaint ID                    160997 non-null object\n",
            "dtypes: object(18)\n",
            "memory usage: 22.1+ MB\n",
            "National Recovery, the individuals allegedly persuing a debt of a XXXX XXXX bill, reported said debt to my credit report with no prior written notice of such claim, no account number associated with said amount due and no chance to pay debt, before they reported alleged debt to my credit. I deserve to have knowledge of said debt and a chance to reconcile such debt, before it impacts my credit score thereof. For such wrongful demeanor and unrelentness false reporting, I request the inquiry be removed. So, I have a chance to dispute such claim ( s ), before the claim has an impact on my CREDIT score, which National Recovery did not give me an option nor a written bill or any validation of said bill even existing prior to the reporting of alleged amount owed to the credit bureaus. \n",
            "\n",
            "Sincerely, XXXX XXXX ( Business Owner/Entrepreneur )\n",
            "Product: Debt collection\n",
            "national recovery individuals allegedly persuing debt bill reported said debt credit report prior written notice claim account number associated said amount due chance pay debt reported alleged debt credit deserve knowledge said debt chance reconcile debt impacts credit score thereof wrongful demeanor unrelentness false reporting request inquiry removed chance dispute claim claim impact credit score national recovery give option written bill validation said bill even eisting prior reporting alleged amount owed credit bureaus sincerely business owner entrepreneur\n",
            "Product: Debt collection\n",
            "Found 46552 unique tokens.\n",
            "Shape of data tensor: (160858, 250)\n"
          ],
          "name": "stdout"
        }
      ]
    }
  ]
}